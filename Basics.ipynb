{
 "cells": [
  {
   "cell_type": "code",
   "execution_count": 1,
   "metadata": {
    "collapsed": false
   },
   "outputs": [
    {
     "name": "stdout",
     "output_type": "stream",
     "text": [
      "   RespondentID Do you celebrate Thanksgiving?  \\\n",
      "0    4337954960                            Yes   \n",
      "1    4337951949                            Yes   \n",
      "2    4337935621                            Yes   \n",
      "3    4337933040                            Yes   \n",
      "4    4337931983                            Yes   \n",
      "\n",
      "  What is typically the main dish at your Thanksgiving dinner?  \\\n",
      "0                                             Turkey             \n",
      "1                                             Turkey             \n",
      "2                                             Turkey             \n",
      "3                                             Turkey             \n",
      "4                                           Tofurkey             \n",
      "\n",
      "  What is typically the main dish at your Thanksgiving dinner? - Other (please specify)  \\\n",
      "0                                                NaN                                      \n",
      "1                                                NaN                                      \n",
      "2                                                NaN                                      \n",
      "3                                                NaN                                      \n",
      "4                                                NaN                                      \n",
      "\n",
      "  How is the main dish typically cooked?  \\\n",
      "0                                  Baked   \n",
      "1                                  Baked   \n",
      "2                                Roasted   \n",
      "3                                  Baked   \n",
      "4                                  Baked   \n",
      "\n",
      "  How is the main dish typically cooked? - Other (please specify)  \\\n",
      "0                                                NaN                \n",
      "1                                                NaN                \n",
      "2                                                NaN                \n",
      "3                                                NaN                \n",
      "4                                                NaN                \n",
      "\n",
      "  What kind of stuffing/dressing do you typically have?  \\\n",
      "0                                        Bread-based      \n",
      "1                                        Bread-based      \n",
      "2                                         Rice-based      \n",
      "3                                        Bread-based      \n",
      "4                                        Bread-based      \n",
      "\n",
      "  What kind of stuffing/dressing do you typically have? - Other (please specify)  \\\n",
      "0                                                NaN                               \n",
      "1                                                NaN                               \n",
      "2                                                NaN                               \n",
      "3                                                NaN                               \n",
      "4                                                NaN                               \n",
      "\n",
      "  What type of cranberry saucedo you typically have?  \\\n",
      "0                                               None   \n",
      "1                             Other (please specify)   \n",
      "2                                           Homemade   \n",
      "3                                           Homemade   \n",
      "4                                             Canned   \n",
      "\n",
      "  What type of cranberry saucedo you typically have? - Other (please specify)  \\\n",
      "0                                                NaN                            \n",
      "1                    Homemade cranberry gelatin ring                            \n",
      "2                                                NaN                            \n",
      "3                                                NaN                            \n",
      "4                                                NaN                            \n",
      "\n",
      "          ...          \\\n",
      "0         ...           \n",
      "1         ...           \n",
      "2         ...           \n",
      "3         ...           \n",
      "4         ...           \n",
      "\n",
      "  Have you ever tried to meet up with hometown friends on Thanksgiving night?  \\\n",
      "0                                                Yes                            \n",
      "1                                                 No                            \n",
      "2                                                Yes                            \n",
      "3                                                Yes                            \n",
      "4                                                Yes                            \n",
      "\n",
      "  Have you ever attended a \"Friendsgiving?\"  \\\n",
      "0                                        No   \n",
      "1                                        No   \n",
      "2                                       Yes   \n",
      "3                                        No   \n",
      "4                                        No   \n",
      "\n",
      "  Will you shop any Black Friday sales on Thanksgiving Day?  \\\n",
      "0                                                 No          \n",
      "1                                                Yes          \n",
      "2                                                Yes          \n",
      "3                                                 No          \n",
      "4                                                 No          \n",
      "\n",
      "  Do you work in retail? Will you employer make you work on Black Friday?  \\\n",
      "0                     No                                              NaN   \n",
      "1                     No                                              NaN   \n",
      "2                     No                                              NaN   \n",
      "3                     No                                              NaN   \n",
      "4                     No                                              NaN   \n",
      "\n",
      "  How would you describe where you live?      Age What is your gender?  \\\n",
      "0                               Suburban  18 - 29                 Male   \n",
      "1                                  Rural  18 - 29               Female   \n",
      "2                               Suburban  18 - 29                 Male   \n",
      "3                                  Urban  30 - 44                 Male   \n",
      "4                                  Urban  30 - 44                 Male   \n",
      "\n",
      "  How much total combined money did all members of your HOUSEHOLD earn last year?  \\\n",
      "0                                 $75,000 to $99,999                                \n",
      "1                                 $50,000 to $74,999                                \n",
      "2                                       $0 to $9,999                                \n",
      "3                                    $200,000 and up                                \n",
      "4                               $100,000 to $124,999                                \n",
      "\n",
      "            US Region  \n",
      "0     Middle Atlantic  \n",
      "1  East South Central  \n",
      "2            Mountain  \n",
      "3             Pacific  \n",
      "4             Pacific  \n",
      "\n",
      "[5 rows x 65 columns]\n"
     ]
    }
   ],
   "source": [
    "import pandas\n",
    "data = pandas.read_csv(\"thanksgiving.csv\",encoding=\"Latin-1\")\n",
    "print(data.head(5))"
   ]
  },
  {
   "cell_type": "code",
   "execution_count": 2,
   "metadata": {
    "collapsed": false
   },
   "outputs": [
    {
     "name": "stdout",
     "output_type": "stream",
     "text": [
      "Index(['RespondentID', 'Do you celebrate Thanksgiving?',\n",
      "       'What is typically the main dish at your Thanksgiving dinner?',\n",
      "       'What is typically the main dish at your Thanksgiving dinner? - Other (please specify)',\n",
      "       'How is the main dish typically cooked?',\n",
      "       'How is the main dish typically cooked? - Other (please specify)',\n",
      "       'What kind of stuffing/dressing do you typically have?',\n",
      "       'What kind of stuffing/dressing do you typically have? - Other (please specify)',\n",
      "       'What type of cranberry saucedo you typically have?',\n",
      "       'What type of cranberry saucedo you typically have? - Other (please specify)',\n",
      "       'Do you typically have gravy?',\n",
      "       'Which of these side dishes aretypically served at your Thanksgiving dinner? Please select all that apply. - Brussel sprouts',\n",
      "       'Which of these side dishes aretypically served at your Thanksgiving dinner? Please select all that apply. - Carrots',\n",
      "       'Which of these side dishes aretypically served at your Thanksgiving dinner? Please select all that apply. - Cauliflower',\n",
      "       'Which of these side dishes aretypically served at your Thanksgiving dinner? Please select all that apply. - Corn',\n",
      "       'Which of these side dishes aretypically served at your Thanksgiving dinner? Please select all that apply. - Cornbread',\n",
      "       'Which of these side dishes aretypically served at your Thanksgiving dinner? Please select all that apply. - Fruit salad',\n",
      "       'Which of these side dishes aretypically served at your Thanksgiving dinner? Please select all that apply. - Green beans/green bean casserole',\n",
      "       'Which of these side dishes aretypically served at your Thanksgiving dinner? Please select all that apply. - Macaroni and cheese',\n",
      "       'Which of these side dishes aretypically served at your Thanksgiving dinner? Please select all that apply. - Mashed potatoes',\n",
      "       'Which of these side dishes aretypically served at your Thanksgiving dinner? Please select all that apply. - Rolls/biscuits',\n",
      "       'Which of these side dishes aretypically served at your Thanksgiving dinner? Please select all that apply. - Squash',\n",
      "       'Which of these side dishes aretypically served at your Thanksgiving dinner? Please select all that apply. - Vegetable salad',\n",
      "       'Which of these side dishes aretypically served at your Thanksgiving dinner? Please select all that apply. - Yams/sweet potato casserole',\n",
      "       'Which of these side dishes aretypically served at your Thanksgiving dinner? Please select all that apply. - Other (please specify)',\n",
      "       'Which of these side dishes aretypically served at your Thanksgiving dinner? Please select all that apply. - Other (please specify).1',\n",
      "       'Which type of pie is typically served at your Thanksgiving dinner? Please select all that apply. - Apple',\n",
      "       'Which type of pie is typically served at your Thanksgiving dinner? Please select all that apply. - Buttermilk',\n",
      "       'Which type of pie is typically served at your Thanksgiving dinner? Please select all that apply. - Cherry',\n",
      "       'Which type of pie is typically served at your Thanksgiving dinner? Please select all that apply. - Chocolate',\n",
      "       'Which type of pie is typically served at your Thanksgiving dinner? Please select all that apply. - Coconut cream',\n",
      "       'Which type of pie is typically served at your Thanksgiving dinner? Please select all that apply. - Key lime',\n",
      "       'Which type of pie is typically served at your Thanksgiving dinner? Please select all that apply. - Peach',\n",
      "       'Which type of pie is typically served at your Thanksgiving dinner? Please select all that apply. - Pecan',\n",
      "       'Which type of pie is typically served at your Thanksgiving dinner? Please select all that apply. - Pumpkin',\n",
      "       'Which type of pie is typically served at your Thanksgiving dinner? Please select all that apply. - Sweet Potato',\n",
      "       'Which type of pie is typically served at your Thanksgiving dinner? Please select all that apply. - None',\n",
      "       'Which type of pie is typically served at your Thanksgiving dinner? Please select all that apply. - Other (please specify)',\n",
      "       'Which type of pie is typically served at your Thanksgiving dinner? Please select all that apply. - Other (please specify).1',\n",
      "       'Which of these desserts do you typically have at Thanksgiving dinner? Please select all that apply.   - Apple cobbler',\n",
      "       'Which of these desserts do you typically have at Thanksgiving dinner? Please select all that apply.   - Blondies',\n",
      "       'Which of these desserts do you typically have at Thanksgiving dinner? Please select all that apply.   - Brownies',\n",
      "       'Which of these desserts do you typically have at Thanksgiving dinner? Please select all that apply.   - Carrot cake',\n",
      "       'Which of these desserts do you typically have at Thanksgiving dinner? Please select all that apply.   - Cheesecake',\n",
      "       'Which of these desserts do you typically have at Thanksgiving dinner? Please select all that apply.   - Cookies',\n",
      "       'Which of these desserts do you typically have at Thanksgiving dinner? Please select all that apply.   - Fudge',\n",
      "       'Which of these desserts do you typically have at Thanksgiving dinner? Please select all that apply.   - Ice cream',\n",
      "       'Which of these desserts do you typically have at Thanksgiving dinner? Please select all that apply.   - Peach cobbler',\n",
      "       'Which of these desserts do you typically have at Thanksgiving dinner? Please select all that apply.   - None',\n",
      "       'Which of these desserts do you typically have at Thanksgiving dinner? Please select all that apply.   - Other (please specify)',\n",
      "       'Which of these desserts do you typically have at Thanksgiving dinner? Please select all that apply.   - Other (please specify).1',\n",
      "       'Do you typically pray before or after the Thanksgiving meal?',\n",
      "       'How far will you travel for Thanksgiving?',\n",
      "       'Will you watch any of the following programs on Thanksgiving? Please select all that apply. - Macy's Parade',\n",
      "       'What's the age cutoff at your \"kids' table\" at Thanksgiving?',\n",
      "       'Have you ever tried to meet up with hometown friends on Thanksgiving night?',\n",
      "       'Have you ever attended a \"Friendsgiving?\"',\n",
      "       'Will you shop any Black Friday sales on Thanksgiving Day?',\n",
      "       'Do you work in retail?',\n",
      "       'Will you employer make you work on Black Friday?',\n",
      "       'How would you describe where you live?', 'Age', 'What is your gender?',\n",
      "       'How much total combined money did all members of your HOUSEHOLD earn last year?',\n",
      "       'US Region'],\n",
      "      dtype='object')\n"
     ]
    }
   ],
   "source": [
    "print(data.columns)"
   ]
  },
  {
   "cell_type": "code",
   "execution_count": 3,
   "metadata": {
    "collapsed": false
   },
   "outputs": [
    {
     "name": "stdout",
     "output_type": "stream",
     "text": [
      "Yes    980\n",
      "No      78\n",
      "Name: Do you celebrate Thanksgiving?, dtype: int64\n"
     ]
    }
   ],
   "source": [
    "do_celeb = data[\"Do you celebrate Thanksgiving?\"]\n",
    "uni_count = do_celeb.value_counts()\n",
    "print(uni_count)"
   ]
  },
  {
   "cell_type": "code",
   "execution_count": 4,
   "metadata": {
    "collapsed": false
   },
   "outputs": [
    {
     "name": "stdout",
     "output_type": "stream",
     "text": [
      "Yes    980\n",
      "Name: Do you celebrate Thanksgiving?, dtype: int64\n"
     ]
    }
   ],
   "source": [
    "data = data[do_celeb==\"Yes\"]\n",
    "do_celeb2 = data[\"Do you celebrate Thanksgiving?\"]\n",
    "uni_count2 = do_celeb2.value_counts()\n",
    "print(uni_count2)"
   ]
  },
  {
   "cell_type": "code",
   "execution_count": 5,
   "metadata": {
    "collapsed": false
   },
   "outputs": [
    {
     "name": "stdout",
     "output_type": "stream",
     "text": [
      "Turkey                    859\n",
      "Other (please specify)     35\n",
      "Ham/Pork                   29\n",
      "Tofurkey                   20\n",
      "Chicken                    12\n",
      "Roast beef                 11\n",
      "I don't know                5\n",
      "Turducken                   3\n",
      "Name: What is typically the main dish at your Thanksgiving dinner?, dtype: int64\n"
     ]
    }
   ],
   "source": [
    "main_dish = data[\"What is typically the main dish at your Thanksgiving dinner?\"]\n",
    "dish_count = main_dish.value_counts()\n",
    "print(dish_count)"
   ]
  },
  {
   "cell_type": "code",
   "execution_count": 6,
   "metadata": {
    "collapsed": false
   },
   "outputs": [
    {
     "name": "stdout",
     "output_type": "stream",
     "text": [
      "4      Yes\n",
      "33     Yes\n",
      "69      No\n",
      "72      No\n",
      "77     Yes\n",
      "145    Yes\n",
      "175    Yes\n",
      "218     No\n",
      "243    Yes\n",
      "275     No\n",
      "393    Yes\n",
      "399    Yes\n",
      "571    Yes\n",
      "594    Yes\n",
      "628     No\n",
      "774     No\n",
      "820     No\n",
      "837    Yes\n",
      "860     No\n",
      "953    Yes\n",
      "Name: Do you typically have gravy?, dtype: object\n"
     ]
    }
   ],
   "source": [
    "data_tof = data[main_dish==\"Tofurkey\"]\n",
    "gravy = data_tof[\"Do you typically have gravy?\"]\n",
    "print(gravy)"
   ]
  },
  {
   "cell_type": "code",
   "execution_count": 7,
   "metadata": {
    "collapsed": false
   },
   "outputs": [
    {
     "name": "stdout",
     "output_type": "stream",
     "text": [
      "False    876\n",
      "True     104\n",
      "dtype: int64\n"
     ]
    }
   ],
   "source": [
    "apple_isnull = pandas.isnull(data[\"Which type of pie is typically served at your Thanksgiving dinner? Please select all that apply. - Apple\"])\n",
    "pumpkin_isnull = pandas.isnull(data[\"Which type of pie is typically served at your Thanksgiving dinner? Please select all that apply. - Pumpkin\"])\n",
    "pecan_isnull = pandas.isnull(data[\"Which type of pie is typically served at your Thanksgiving dinner? Please select all that apply. - Pecan\"])\n",
    "no_pies = apple_isnull & pumpkin_isnull & pecan_isnull\n",
    "print(no_pies.value_counts())"
   ]
  },
  {
   "cell_type": "code",
   "execution_count": 8,
   "metadata": {
    "collapsed": false
   },
   "outputs": [
    {
     "name": "stdout",
     "output_type": "stream",
     "text": [
      "count    947.000000\n",
      "mean      40.089757\n",
      "std       15.352014\n",
      "min       18.000000\n",
      "25%       30.000000\n",
      "50%       45.000000\n",
      "75%       60.000000\n",
      "max       60.000000\n",
      "Name: int_age, dtype: float64\n"
     ]
    }
   ],
   "source": [
    "import re\n",
    "def convert_str(var1):\n",
    "    if pandas.isnull(var1)==True:\n",
    "        return None\n",
    "    var1 = var1.split(\" \")[0]\n",
    "    #if re.search(\"+\",var1):\n",
    "    var1 = var1.replace(\"+\",\"\")\n",
    "    return int(var1)\n",
    "\n",
    "data[\"int_age\"] = data[\"Age\"].apply(convert_str)\n",
    "\n",
    "result = data[\"int_age\"].describe()\n",
    "print(result)\n",
    "   \n",
    "            \n",
    "        "
   ]
  },
  {
   "cell_type": "code",
   "execution_count": 9,
   "metadata": {
    "collapsed": false
   },
   "outputs": [
    {
     "name": "stdout",
     "output_type": "stream",
     "text": [
      "count       829.000000\n",
      "mean      75965.018094\n",
      "std       59068.636748\n",
      "min           0.000000\n",
      "25%       25000.000000\n",
      "50%       75000.000000\n",
      "75%      100000.000000\n",
      "max      200000.000000\n",
      "Name: int_income, dtype: float64\n"
     ]
    }
   ],
   "source": [
    "def convert_income(var):\n",
    "    if pandas.isnull(var)==True:\n",
    "        return None\n",
    "    var = var.split(\" \")[0]\n",
    "    if var==\"Prefer\":\n",
    "        return None\n",
    "    \n",
    "    #if re.search(\"+\",var1):\n",
    "    var = var.replace(\"$\",\"\")\n",
    "    var = var.replace(\",\",\"\")\n",
    "    return int(var)\n",
    "\n",
    "data[\"int_income\"] = data[\"How much total combined money did all members of your HOUSEHOLD earn last year?\"].apply(convert_income)\n",
    "\n",
    "result2 = data[\"int_income\"].describe()\n",
    "print(result2)"
   ]
  },
  {
   "cell_type": "markdown",
   "metadata": {},
   "source": [
    "Average income is pretty high and the standard deviation is also pretty high"
   ]
  },
  {
   "cell_type": "code",
   "execution_count": 10,
   "metadata": {
    "collapsed": false
   },
   "outputs": [
    {
     "name": "stdout",
     "output_type": "stream",
     "text": [
      "Thanksgiving is happening at my home--I won't travel at all                         281\n",
      "Thanksgiving is local--it will take place in the town I live in                     203\n",
      "Thanksgiving is out of town but not too far--it's a drive of a few hours or less    150\n",
      "Thanksgiving is out of town and far away--I have to drive several hours or fly       55\n",
      "Name: How far will you travel for Thanksgiving?, dtype: int64\n"
     ]
    }
   ],
   "source": [
    "travel_test = data[data[\"int_income\"]<150000]\n",
    "less_income = travel_test[\"How far will you travel for Thanksgiving?\"]\n",
    "print(less_income.value_counts())"
   ]
  },
  {
   "cell_type": "code",
   "execution_count": 11,
   "metadata": {
    "collapsed": false
   },
   "outputs": [
    {
     "name": "stdout",
     "output_type": "stream",
     "text": [
      "Thanksgiving is happening at my home--I won't travel at all                         49\n",
      "Thanksgiving is local--it will take place in the town I live in                     25\n",
      "Thanksgiving is out of town but not too far--it's a drive of a few hours or less    16\n",
      "Thanksgiving is out of town and far away--I have to drive several hours or fly      12\n",
      "Name: How far will you travel for Thanksgiving?, dtype: int64\n"
     ]
    }
   ],
   "source": [
    "travel_test2 = data[data[\"int_income\"]>150000]\n",
    "more_income = travel_test2[\"How far will you travel for Thanksgiving?\"]\n",
    "print(more_income.value_counts())"
   ]
  },
  {
   "cell_type": "markdown",
   "metadata": {},
   "source": [
    "People with higher incomes spend thanksgiving at home."
   ]
  },
  {
   "cell_type": "code",
   "execution_count": 12,
   "metadata": {
    "collapsed": false
   },
   "outputs": [
    {
     "name": "stdout",
     "output_type": "stream",
     "text": [
      "Have you ever attended a \"Friendsgiving?\"                  No        Yes\n",
      "Have you ever tried to meet up with hometown fr...                      \n",
      "No                                                  42.283702  37.010526\n",
      "Yes                                                 41.475410  33.976744\n"
     ]
    }
   ],
   "source": [
    "res = data.pivot_table(index=\"Have you ever tried to meet up with hometown friends on Thanksgiving night?\", columns = \"Have you ever attended a \\\"Friendsgiving?\\\"\", values = \"int_age\" )\n",
    "print(res)"
   ]
  },
  {
   "cell_type": "code",
   "execution_count": 13,
   "metadata": {
    "collapsed": false
   },
   "outputs": [
    {
     "name": "stdout",
     "output_type": "stream",
     "text": [
      "Have you ever attended a \"Friendsgiving?\"                     No           Yes\n",
      "Have you ever tried to meet up with hometown fr...                            \n",
      "No                                                  78914.549654  72894.736842\n",
      "Yes                                                 78750.000000  66019.736842\n"
     ]
    }
   ],
   "source": [
    "res2 = data.pivot_table(index=\"Have you ever tried to meet up with hometown friends on Thanksgiving night?\", columns = \"Have you ever attended a \\\"Friendsgiving?\\\"\", values = \"int_income\" )\n",
    "print(res2)"
   ]
  },
  {
   "cell_type": "markdown",
   "metadata": {},
   "source": [
    "It seems younger people with lower incomes tend to spend thanksgiving with friends\n"
   ]
  },
  {
   "cell_type": "code",
   "execution_count": null,
   "metadata": {
    "collapsed": true
   },
   "outputs": [],
   "source": []
  }
 ],
 "metadata": {
  "kernelspec": {
   "display_name": "Python 3",
   "language": "python",
   "name": "python3"
  },
  "language_info": {
   "codemirror_mode": {
    "name": "ipython",
    "version": 3
   },
   "file_extension": ".py",
   "mimetype": "text/x-python",
   "name": "python",
   "nbconvert_exporter": "python",
   "pygments_lexer": "ipython3",
   "version": "3.4.3"
  }
 },
 "nbformat": 4,
 "nbformat_minor": 0
}
